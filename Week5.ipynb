{
  "cells": [
    {
      "cell_type": "markdown",
      "metadata": {
        "id": "7ywSRtNI4s5h"
      },
      "source": [
        "# 0.) Import the US Perminent Visas using zip extractor"
      ]
    },
    {
      "cell_type": "code",
      "execution_count": 2,
      "metadata": {
        "id": "nsG1QV154GYZ"
      },
      "outputs": [],
      "source": [
        "import pandas as pd\n",
        "from google.colab import drive\n",
        "import matplotlib.pyplot as plt\n",
        "import numpy as np"
      ]
    },
    {
      "cell_type": "code",
      "execution_count": 3,
      "metadata": {
        "colab": {
          "base_uri": "https://localhost:8080/"
        },
        "id": "Iku0T8Ou4Lcu",
        "outputId": "0d1c7a72-0b7f-4b41-8374-94b63936d7d2"
      },
      "outputs": [
        {
          "output_type": "stream",
          "name": "stdout",
          "text": [
            "Mounted at /content/gdrive/\n"
          ]
        }
      ],
      "source": [
        "drive.mount('/content/gdrive/', force_remount = True)"
      ]
    },
    {
      "cell_type": "code",
      "execution_count": 4,
      "metadata": {
        "colab": {
          "base_uri": "https://localhost:8080/"
        },
        "id": "Q7XmCWs_rULl",
        "outputId": "28d9f258-c573-42cd-aed6-bd02e05ca686"
      },
      "outputs": [
        {
          "output_type": "stream",
          "name": "stderr",
          "text": [
            "/usr/local/lib/python3.8/dist-packages/IPython/core/interactiveshell.py:3326: DtypeWarning: Columns (0,1,2,3,4,5,6,7,10,11,16,17,20,21,22,25,26,27,28,29,30,31,32,33,34,35,36,37,39,40,41,42,43,44,45,47,48,49,50,51,52,53,55,56,57,58,59,60,61,63,64,65,66,68,69,70,71,72,73,74,77,79,80,81,82,83,84,85,86,87,88,89,90,91,92,93,94,95,100,101,103,104,105,106,107,108,109,110,111,112,113,114,115,116,117,118,119,120,121,122,123,124,125,126,127,128,129,130,131,132,133,134,135,136,137,138,139,140,141,142,143,144,145,146,147,148,149,150,153) have mixed types.Specify dtype option on import or set low_memory=False.\n",
            "  exec(code_obj, self.user_global_ns, self.user_ns)\n"
          ]
        }
      ],
      "source": [
        "import zipfile\n",
        "\n",
        "zf = zipfile.ZipFile(\"/content/gdrive/MyDrive/Econ441B/us_perm_visas.csv.zip\") \n",
        "df = pd.read_csv(zf.open('us_perm_visas.csv'))"
      ]
    },
    {
      "cell_type": "markdown",
      "metadata": {
        "id": "lbkpNPyN-Gnk"
      },
      "source": [
        "# 1.) Choose 4 features you think are important. Case_status is your target variable\n"
      ]
    },
    {
      "cell_type": "code",
      "execution_count": 5,
      "metadata": {
        "colab": {
          "base_uri": "https://localhost:8080/",
          "height": 473
        },
        "id": "cNu6ysyV988v",
        "outputId": "2d298970-8db0-438b-d595-285aaec3e71e"
      },
      "outputs": [
        {
          "output_type": "execute_result",
          "data": {
            "text/plain": [
              "  add_these_pw_job_title_9089 agent_city agent_firm_name agent_state  \\\n",
              "0                         NaN        NaN             NaN         NaN   \n",
              "1                         NaN        NaN             NaN         NaN   \n",
              "2                         NaN        NaN             NaN         NaN   \n",
              "3                         NaN        NaN             NaN         NaN   \n",
              "4                         NaN        NaN             NaN         NaN   \n",
              "\n",
              "  application_type        case_no case_number case_received_date case_status  \\\n",
              "0             PERM  A-07323-97014         NaN                NaN   Certified   \n",
              "1             PERM  A-07332-99439         NaN                NaN      Denied   \n",
              "2             PERM  A-07333-99643         NaN                NaN   Certified   \n",
              "3             PERM  A-07339-01930         NaN                NaN   Certified   \n",
              "4             PERM  A-07345-03565         NaN                NaN   Certified   \n",
              "\n",
              "  class_of_admission  ... ri_pvt_employment_firm_to ri_us_workers_considered  \\\n",
              "0                J-1  ...                       NaN                      NaN   \n",
              "1                B-2  ...                       NaN                      NaN   \n",
              "2               H-1B  ...                       NaN                      NaN   \n",
              "3                B-2  ...                       NaN                      NaN   \n",
              "4                L-1  ...                       NaN                      NaN   \n",
              "\n",
              "  schd_a_sheepherder     us_economic_sector wage_offer_from_9089  \\\n",
              "0                NaN                     IT              75629.0   \n",
              "1                NaN  Other Economic Sector              37024.0   \n",
              "2                NaN              Aerospace              47923.0   \n",
              "3                NaN  Other Economic Sector                10.97   \n",
              "4                NaN           Advanced Mfg             100000.0   \n",
              "\n",
              "  wage_offer_to_9089 wage_offer_unit_of_pay_9089 wage_offered_from_9089  \\\n",
              "0                NaN                          yr                    NaN   \n",
              "1                NaN                          yr                    NaN   \n",
              "2                NaN                          yr                    NaN   \n",
              "3                NaN                          hr                    NaN   \n",
              "4                NaN                          yr                    NaN   \n",
              "\n",
              "  wage_offered_to_9089  wage_offered_unit_of_pay_9089  \n",
              "0                  NaN                            NaN  \n",
              "1                  NaN                            NaN  \n",
              "2                  NaN                            NaN  \n",
              "3                  NaN                            NaN  \n",
              "4                  NaN                            NaN  \n",
              "\n",
              "[5 rows x 154 columns]"
            ],
            "text/html": [
              "\n",
              "  <div id=\"df-318d378d-3866-443c-b54d-be653c9743e0\">\n",
              "    <div class=\"colab-df-container\">\n",
              "      <div>\n",
              "<style scoped>\n",
              "    .dataframe tbody tr th:only-of-type {\n",
              "        vertical-align: middle;\n",
              "    }\n",
              "\n",
              "    .dataframe tbody tr th {\n",
              "        vertical-align: top;\n",
              "    }\n",
              "\n",
              "    .dataframe thead th {\n",
              "        text-align: right;\n",
              "    }\n",
              "</style>\n",
              "<table border=\"1\" class=\"dataframe\">\n",
              "  <thead>\n",
              "    <tr style=\"text-align: right;\">\n",
              "      <th></th>\n",
              "      <th>add_these_pw_job_title_9089</th>\n",
              "      <th>agent_city</th>\n",
              "      <th>agent_firm_name</th>\n",
              "      <th>agent_state</th>\n",
              "      <th>application_type</th>\n",
              "      <th>case_no</th>\n",
              "      <th>case_number</th>\n",
              "      <th>case_received_date</th>\n",
              "      <th>case_status</th>\n",
              "      <th>class_of_admission</th>\n",
              "      <th>...</th>\n",
              "      <th>ri_pvt_employment_firm_to</th>\n",
              "      <th>ri_us_workers_considered</th>\n",
              "      <th>schd_a_sheepherder</th>\n",
              "      <th>us_economic_sector</th>\n",
              "      <th>wage_offer_from_9089</th>\n",
              "      <th>wage_offer_to_9089</th>\n",
              "      <th>wage_offer_unit_of_pay_9089</th>\n",
              "      <th>wage_offered_from_9089</th>\n",
              "      <th>wage_offered_to_9089</th>\n",
              "      <th>wage_offered_unit_of_pay_9089</th>\n",
              "    </tr>\n",
              "  </thead>\n",
              "  <tbody>\n",
              "    <tr>\n",
              "      <th>0</th>\n",
              "      <td>NaN</td>\n",
              "      <td>NaN</td>\n",
              "      <td>NaN</td>\n",
              "      <td>NaN</td>\n",
              "      <td>PERM</td>\n",
              "      <td>A-07323-97014</td>\n",
              "      <td>NaN</td>\n",
              "      <td>NaN</td>\n",
              "      <td>Certified</td>\n",
              "      <td>J-1</td>\n",
              "      <td>...</td>\n",
              "      <td>NaN</td>\n",
              "      <td>NaN</td>\n",
              "      <td>NaN</td>\n",
              "      <td>IT</td>\n",
              "      <td>75629.0</td>\n",
              "      <td>NaN</td>\n",
              "      <td>yr</td>\n",
              "      <td>NaN</td>\n",
              "      <td>NaN</td>\n",
              "      <td>NaN</td>\n",
              "    </tr>\n",
              "    <tr>\n",
              "      <th>1</th>\n",
              "      <td>NaN</td>\n",
              "      <td>NaN</td>\n",
              "      <td>NaN</td>\n",
              "      <td>NaN</td>\n",
              "      <td>PERM</td>\n",
              "      <td>A-07332-99439</td>\n",
              "      <td>NaN</td>\n",
              "      <td>NaN</td>\n",
              "      <td>Denied</td>\n",
              "      <td>B-2</td>\n",
              "      <td>...</td>\n",
              "      <td>NaN</td>\n",
              "      <td>NaN</td>\n",
              "      <td>NaN</td>\n",
              "      <td>Other Economic Sector</td>\n",
              "      <td>37024.0</td>\n",
              "      <td>NaN</td>\n",
              "      <td>yr</td>\n",
              "      <td>NaN</td>\n",
              "      <td>NaN</td>\n",
              "      <td>NaN</td>\n",
              "    </tr>\n",
              "    <tr>\n",
              "      <th>2</th>\n",
              "      <td>NaN</td>\n",
              "      <td>NaN</td>\n",
              "      <td>NaN</td>\n",
              "      <td>NaN</td>\n",
              "      <td>PERM</td>\n",
              "      <td>A-07333-99643</td>\n",
              "      <td>NaN</td>\n",
              "      <td>NaN</td>\n",
              "      <td>Certified</td>\n",
              "      <td>H-1B</td>\n",
              "      <td>...</td>\n",
              "      <td>NaN</td>\n",
              "      <td>NaN</td>\n",
              "      <td>NaN</td>\n",
              "      <td>Aerospace</td>\n",
              "      <td>47923.0</td>\n",
              "      <td>NaN</td>\n",
              "      <td>yr</td>\n",
              "      <td>NaN</td>\n",
              "      <td>NaN</td>\n",
              "      <td>NaN</td>\n",
              "    </tr>\n",
              "    <tr>\n",
              "      <th>3</th>\n",
              "      <td>NaN</td>\n",
              "      <td>NaN</td>\n",
              "      <td>NaN</td>\n",
              "      <td>NaN</td>\n",
              "      <td>PERM</td>\n",
              "      <td>A-07339-01930</td>\n",
              "      <td>NaN</td>\n",
              "      <td>NaN</td>\n",
              "      <td>Certified</td>\n",
              "      <td>B-2</td>\n",
              "      <td>...</td>\n",
              "      <td>NaN</td>\n",
              "      <td>NaN</td>\n",
              "      <td>NaN</td>\n",
              "      <td>Other Economic Sector</td>\n",
              "      <td>10.97</td>\n",
              "      <td>NaN</td>\n",
              "      <td>hr</td>\n",
              "      <td>NaN</td>\n",
              "      <td>NaN</td>\n",
              "      <td>NaN</td>\n",
              "    </tr>\n",
              "    <tr>\n",
              "      <th>4</th>\n",
              "      <td>NaN</td>\n",
              "      <td>NaN</td>\n",
              "      <td>NaN</td>\n",
              "      <td>NaN</td>\n",
              "      <td>PERM</td>\n",
              "      <td>A-07345-03565</td>\n",
              "      <td>NaN</td>\n",
              "      <td>NaN</td>\n",
              "      <td>Certified</td>\n",
              "      <td>L-1</td>\n",
              "      <td>...</td>\n",
              "      <td>NaN</td>\n",
              "      <td>NaN</td>\n",
              "      <td>NaN</td>\n",
              "      <td>Advanced Mfg</td>\n",
              "      <td>100000.0</td>\n",
              "      <td>NaN</td>\n",
              "      <td>yr</td>\n",
              "      <td>NaN</td>\n",
              "      <td>NaN</td>\n",
              "      <td>NaN</td>\n",
              "    </tr>\n",
              "  </tbody>\n",
              "</table>\n",
              "<p>5 rows × 154 columns</p>\n",
              "</div>\n",
              "      <button class=\"colab-df-convert\" onclick=\"convertToInteractive('df-318d378d-3866-443c-b54d-be653c9743e0')\"\n",
              "              title=\"Convert this dataframe to an interactive table.\"\n",
              "              style=\"display:none;\">\n",
              "        \n",
              "  <svg xmlns=\"http://www.w3.org/2000/svg\" height=\"24px\"viewBox=\"0 0 24 24\"\n",
              "       width=\"24px\">\n",
              "    <path d=\"M0 0h24v24H0V0z\" fill=\"none\"/>\n",
              "    <path d=\"M18.56 5.44l.94 2.06.94-2.06 2.06-.94-2.06-.94-.94-2.06-.94 2.06-2.06.94zm-11 1L8.5 8.5l.94-2.06 2.06-.94-2.06-.94L8.5 2.5l-.94 2.06-2.06.94zm10 10l.94 2.06.94-2.06 2.06-.94-2.06-.94-.94-2.06-.94 2.06-2.06.94z\"/><path d=\"M17.41 7.96l-1.37-1.37c-.4-.4-.92-.59-1.43-.59-.52 0-1.04.2-1.43.59L10.3 9.45l-7.72 7.72c-.78.78-.78 2.05 0 2.83L4 21.41c.39.39.9.59 1.41.59.51 0 1.02-.2 1.41-.59l7.78-7.78 2.81-2.81c.8-.78.8-2.07 0-2.86zM5.41 20L4 18.59l7.72-7.72 1.47 1.35L5.41 20z\"/>\n",
              "  </svg>\n",
              "      </button>\n",
              "      \n",
              "  <style>\n",
              "    .colab-df-container {\n",
              "      display:flex;\n",
              "      flex-wrap:wrap;\n",
              "      gap: 12px;\n",
              "    }\n",
              "\n",
              "    .colab-df-convert {\n",
              "      background-color: #E8F0FE;\n",
              "      border: none;\n",
              "      border-radius: 50%;\n",
              "      cursor: pointer;\n",
              "      display: none;\n",
              "      fill: #1967D2;\n",
              "      height: 32px;\n",
              "      padding: 0 0 0 0;\n",
              "      width: 32px;\n",
              "    }\n",
              "\n",
              "    .colab-df-convert:hover {\n",
              "      background-color: #E2EBFA;\n",
              "      box-shadow: 0px 1px 2px rgba(60, 64, 67, 0.3), 0px 1px 3px 1px rgba(60, 64, 67, 0.15);\n",
              "      fill: #174EA6;\n",
              "    }\n",
              "\n",
              "    [theme=dark] .colab-df-convert {\n",
              "      background-color: #3B4455;\n",
              "      fill: #D2E3FC;\n",
              "    }\n",
              "\n",
              "    [theme=dark] .colab-df-convert:hover {\n",
              "      background-color: #434B5C;\n",
              "      box-shadow: 0px 1px 3px 1px rgba(0, 0, 0, 0.15);\n",
              "      filter: drop-shadow(0px 1px 2px rgba(0, 0, 0, 0.3));\n",
              "      fill: #FFFFFF;\n",
              "    }\n",
              "  </style>\n",
              "\n",
              "      <script>\n",
              "        const buttonEl =\n",
              "          document.querySelector('#df-318d378d-3866-443c-b54d-be653c9743e0 button.colab-df-convert');\n",
              "        buttonEl.style.display =\n",
              "          google.colab.kernel.accessAllowed ? 'block' : 'none';\n",
              "\n",
              "        async function convertToInteractive(key) {\n",
              "          const element = document.querySelector('#df-318d378d-3866-443c-b54d-be653c9743e0');\n",
              "          const dataTable =\n",
              "            await google.colab.kernel.invokeFunction('convertToInteractive',\n",
              "                                                     [key], {});\n",
              "          if (!dataTable) return;\n",
              "\n",
              "          const docLinkHtml = 'Like what you see? Visit the ' +\n",
              "            '<a target=\"_blank\" href=https://colab.research.google.com/notebooks/data_table.ipynb>data table notebook</a>'\n",
              "            + ' to learn more about interactive tables.';\n",
              "          element.innerHTML = '';\n",
              "          dataTable['output_type'] = 'display_data';\n",
              "          await google.colab.output.renderOutput(dataTable, element);\n",
              "          const docLink = document.createElement('div');\n",
              "          docLink.innerHTML = docLinkHtml;\n",
              "          element.appendChild(docLink);\n",
              "        }\n",
              "      </script>\n",
              "    </div>\n",
              "  </div>\n",
              "  "
            ]
          },
          "metadata": {},
          "execution_count": 5
        }
      ],
      "source": [
        "df.head()"
      ]
    },
    {
      "cell_type": "code",
      "execution_count": 6,
      "metadata": {
        "colab": {
          "base_uri": "https://localhost:8080/"
        },
        "id": "ifsNzHvOlpdf",
        "outputId": "2518ef1f-15ea-4c63-bb17-5c7f054e6004"
      },
      "outputs": [
        {
          "output_type": "stream",
          "name": "stdout",
          "text": [
            "add_these_pw_job_title_9089\n",
            "agent_city\n",
            "agent_firm_name\n",
            "agent_state\n",
            "application_type\n",
            "case_no\n",
            "case_number\n",
            "case_received_date\n",
            "case_status\n",
            "class_of_admission\n",
            "country_of_citizenship\n",
            "country_of_citzenship\n",
            "decision_date\n",
            "employer_address_1\n",
            "employer_address_2\n",
            "employer_city\n",
            "employer_country\n",
            "employer_decl_info_title\n",
            "employer_name\n",
            "employer_num_employees\n",
            "employer_phone\n",
            "employer_phone_ext\n",
            "employer_postal_code\n",
            "employer_state\n",
            "employer_yr_estab\n",
            "foreign_worker_info_alt_edu_experience\n",
            "foreign_worker_info_birth_country\n",
            "foreign_worker_info_city\n",
            "foreign_worker_info_education\n",
            "foreign_worker_info_education_other\n",
            "foreign_worker_info_inst\n",
            "foreign_worker_info_major\n",
            "foreign_worker_info_postal_code\n",
            "foreign_worker_info_rel_occup_exp\n",
            "foreign_worker_info_req_experience\n",
            "foreign_worker_info_state\n",
            "foreign_worker_info_training_comp\n",
            "foreign_worker_ownership_interest\n",
            "foreign_worker_yr_rel_edu_completed\n",
            "fw_info_alt_edu_experience\n",
            "fw_info_birth_country\n",
            "fw_info_education_other\n",
            "fw_info_postal_code\n",
            "fw_info_rel_occup_exp\n",
            "fw_info_req_experience\n",
            "fw_info_training_comp\n",
            "fw_info_yr_rel_edu_completed\n",
            "fw_ownership_interest\n",
            "ji_foreign_worker_live_on_premises\n",
            "ji_fw_live_on_premises\n",
            "ji_live_in_dom_svc_contract\n",
            "ji_live_in_domestic_service\n",
            "ji_offered_to_sec_j_foreign_worker\n",
            "ji_offered_to_sec_j_fw\n",
            "job_info_alt_cmb_ed_oth_yrs\n",
            "job_info_alt_combo_ed\n",
            "job_info_alt_combo_ed_exp\n",
            "job_info_alt_combo_ed_other\n",
            "job_info_alt_field\n",
            "job_info_alt_field_name\n",
            "job_info_alt_occ\n",
            "job_info_alt_occ_job_title\n",
            "job_info_alt_occ_num_months\n",
            "job_info_combo_occupation\n",
            "job_info_education\n",
            "job_info_education_other\n",
            "job_info_experience\n",
            "job_info_experience_num_months\n",
            "job_info_foreign_ed\n",
            "job_info_foreign_lang_req\n",
            "job_info_job_req_normal\n",
            "job_info_job_title\n",
            "job_info_major\n",
            "job_info_training\n",
            "job_info_training_field\n",
            "job_info_training_num_months\n",
            "job_info_work_city\n",
            "job_info_work_postal_code\n",
            "job_info_work_state\n",
            "naics_2007_us_code\n",
            "naics_2007_us_title\n",
            "naics_code\n",
            "naics_title\n",
            "naics_us_code\n",
            "naics_us_code_2007\n",
            "naics_us_title\n",
            "naics_us_title_2007\n",
            "orig_case_no\n",
            "orig_file_date\n",
            "preparer_info_emp_completed\n",
            "preparer_info_title\n",
            "pw_amount_9089\n",
            "pw_determ_date\n",
            "pw_expire_date\n",
            "pw_job_title_908\n",
            "pw_job_title_9089\n",
            "pw_level_9089\n",
            "pw_soc_code\n",
            "pw_soc_title\n",
            "pw_source_name_9089\n",
            "pw_source_name_other_9089\n",
            "pw_track_num\n",
            "pw_unit_of_pay_9089\n",
            "rec_info_barg_rep_notified\n",
            "recr_info_barg_rep_notified\n",
            "recr_info_coll_teach_comp_proc\n",
            "recr_info_coll_univ_teacher\n",
            "recr_info_employer_rec_payment\n",
            "recr_info_first_ad_start\n",
            "recr_info_job_fair_from\n",
            "recr_info_job_fair_to\n",
            "recr_info_on_campus_recr_from\n",
            "recr_info_on_campus_recr_to\n",
            "recr_info_pro_org_advert_from\n",
            "recr_info_pro_org_advert_to\n",
            "recr_info_prof_org_advert_from\n",
            "recr_info_prof_org_advert_to\n",
            "recr_info_professional_occ\n",
            "recr_info_radio_tv_ad_from\n",
            "recr_info_radio_tv_ad_to\n",
            "recr_info_second_ad_start\n",
            "recr_info_sunday_newspaper\n",
            "recr_info_swa_job_order_end\n",
            "recr_info_swa_job_order_start\n",
            "refile\n",
            "ri_1st_ad_newspaper_name\n",
            "ri_2nd_ad_newspaper_name\n",
            "ri_2nd_ad_newspaper_or_journal\n",
            "ri_campus_placement_from\n",
            "ri_campus_placement_to\n",
            "ri_coll_tch_basic_process\n",
            "ri_coll_teach_pro_jnl\n",
            "ri_coll_teach_select_date\n",
            "ri_employee_referral_prog_from\n",
            "ri_employee_referral_prog_to\n",
            "ri_employer_web_post_from\n",
            "ri_employer_web_post_to\n",
            "ri_job_search_website_from\n",
            "ri_job_search_website_to\n",
            "ri_layoff_in_past_six_months\n",
            "ri_local_ethnic_paper_from\n",
            "ri_local_ethnic_paper_to\n",
            "ri_posted_notice_at_worksite\n",
            "ri_pvt_employment_firm_from\n",
            "ri_pvt_employment_firm_to\n",
            "ri_us_workers_considered\n",
            "schd_a_sheepherder\n",
            "us_economic_sector\n",
            "wage_offer_from_9089\n",
            "wage_offer_to_9089\n",
            "wage_offer_unit_of_pay_9089\n",
            "wage_offered_from_9089\n",
            "wage_offered_to_9089\n",
            "wage_offered_unit_of_pay_9089\n"
          ]
        }
      ],
      "source": [
        "for i in df.columns:\n",
        "  print(i)"
      ]
    },
    {
      "cell_type": "code",
      "execution_count": 7,
      "metadata": {
        "id": "xQE60rwv98_F",
        "colab": {
          "base_uri": "https://localhost:8080/",
          "height": 206
        },
        "outputId": "d77e0a42-02ed-4716-c361-0e4742f79fef"
      },
      "outputs": [
        {
          "output_type": "execute_result",
          "data": {
            "text/plain": [
              "  class_of_admission     us_economic_sector application_type case_status\n",
              "0                J-1                     IT             PERM   Certified\n",
              "1                B-2  Other Economic Sector             PERM      Denied\n",
              "2               H-1B              Aerospace             PERM   Certified\n",
              "3                B-2  Other Economic Sector             PERM   Certified\n",
              "4                L-1           Advanced Mfg             PERM   Certified"
            ],
            "text/html": [
              "\n",
              "  <div id=\"df-92762777-6dc3-4cb3-9694-c1a8d2ab4df0\">\n",
              "    <div class=\"colab-df-container\">\n",
              "      <div>\n",
              "<style scoped>\n",
              "    .dataframe tbody tr th:only-of-type {\n",
              "        vertical-align: middle;\n",
              "    }\n",
              "\n",
              "    .dataframe tbody tr th {\n",
              "        vertical-align: top;\n",
              "    }\n",
              "\n",
              "    .dataframe thead th {\n",
              "        text-align: right;\n",
              "    }\n",
              "</style>\n",
              "<table border=\"1\" class=\"dataframe\">\n",
              "  <thead>\n",
              "    <tr style=\"text-align: right;\">\n",
              "      <th></th>\n",
              "      <th>class_of_admission</th>\n",
              "      <th>us_economic_sector</th>\n",
              "      <th>application_type</th>\n",
              "      <th>case_status</th>\n",
              "    </tr>\n",
              "  </thead>\n",
              "  <tbody>\n",
              "    <tr>\n",
              "      <th>0</th>\n",
              "      <td>J-1</td>\n",
              "      <td>IT</td>\n",
              "      <td>PERM</td>\n",
              "      <td>Certified</td>\n",
              "    </tr>\n",
              "    <tr>\n",
              "      <th>1</th>\n",
              "      <td>B-2</td>\n",
              "      <td>Other Economic Sector</td>\n",
              "      <td>PERM</td>\n",
              "      <td>Denied</td>\n",
              "    </tr>\n",
              "    <tr>\n",
              "      <th>2</th>\n",
              "      <td>H-1B</td>\n",
              "      <td>Aerospace</td>\n",
              "      <td>PERM</td>\n",
              "      <td>Certified</td>\n",
              "    </tr>\n",
              "    <tr>\n",
              "      <th>3</th>\n",
              "      <td>B-2</td>\n",
              "      <td>Other Economic Sector</td>\n",
              "      <td>PERM</td>\n",
              "      <td>Certified</td>\n",
              "    </tr>\n",
              "    <tr>\n",
              "      <th>4</th>\n",
              "      <td>L-1</td>\n",
              "      <td>Advanced Mfg</td>\n",
              "      <td>PERM</td>\n",
              "      <td>Certified</td>\n",
              "    </tr>\n",
              "  </tbody>\n",
              "</table>\n",
              "</div>\n",
              "      <button class=\"colab-df-convert\" onclick=\"convertToInteractive('df-92762777-6dc3-4cb3-9694-c1a8d2ab4df0')\"\n",
              "              title=\"Convert this dataframe to an interactive table.\"\n",
              "              style=\"display:none;\">\n",
              "        \n",
              "  <svg xmlns=\"http://www.w3.org/2000/svg\" height=\"24px\"viewBox=\"0 0 24 24\"\n",
              "       width=\"24px\">\n",
              "    <path d=\"M0 0h24v24H0V0z\" fill=\"none\"/>\n",
              "    <path d=\"M18.56 5.44l.94 2.06.94-2.06 2.06-.94-2.06-.94-.94-2.06-.94 2.06-2.06.94zm-11 1L8.5 8.5l.94-2.06 2.06-.94-2.06-.94L8.5 2.5l-.94 2.06-2.06.94zm10 10l.94 2.06.94-2.06 2.06-.94-2.06-.94-.94-2.06-.94 2.06-2.06.94z\"/><path d=\"M17.41 7.96l-1.37-1.37c-.4-.4-.92-.59-1.43-.59-.52 0-1.04.2-1.43.59L10.3 9.45l-7.72 7.72c-.78.78-.78 2.05 0 2.83L4 21.41c.39.39.9.59 1.41.59.51 0 1.02-.2 1.41-.59l7.78-7.78 2.81-2.81c.8-.78.8-2.07 0-2.86zM5.41 20L4 18.59l7.72-7.72 1.47 1.35L5.41 20z\"/>\n",
              "  </svg>\n",
              "      </button>\n",
              "      \n",
              "  <style>\n",
              "    .colab-df-container {\n",
              "      display:flex;\n",
              "      flex-wrap:wrap;\n",
              "      gap: 12px;\n",
              "    }\n",
              "\n",
              "    .colab-df-convert {\n",
              "      background-color: #E8F0FE;\n",
              "      border: none;\n",
              "      border-radius: 50%;\n",
              "      cursor: pointer;\n",
              "      display: none;\n",
              "      fill: #1967D2;\n",
              "      height: 32px;\n",
              "      padding: 0 0 0 0;\n",
              "      width: 32px;\n",
              "    }\n",
              "\n",
              "    .colab-df-convert:hover {\n",
              "      background-color: #E2EBFA;\n",
              "      box-shadow: 0px 1px 2px rgba(60, 64, 67, 0.3), 0px 1px 3px 1px rgba(60, 64, 67, 0.15);\n",
              "      fill: #174EA6;\n",
              "    }\n",
              "\n",
              "    [theme=dark] .colab-df-convert {\n",
              "      background-color: #3B4455;\n",
              "      fill: #D2E3FC;\n",
              "    }\n",
              "\n",
              "    [theme=dark] .colab-df-convert:hover {\n",
              "      background-color: #434B5C;\n",
              "      box-shadow: 0px 1px 3px 1px rgba(0, 0, 0, 0.15);\n",
              "      filter: drop-shadow(0px 1px 2px rgba(0, 0, 0, 0.3));\n",
              "      fill: #FFFFFF;\n",
              "    }\n",
              "  </style>\n",
              "\n",
              "      <script>\n",
              "        const buttonEl =\n",
              "          document.querySelector('#df-92762777-6dc3-4cb3-9694-c1a8d2ab4df0 button.colab-df-convert');\n",
              "        buttonEl.style.display =\n",
              "          google.colab.kernel.accessAllowed ? 'block' : 'none';\n",
              "\n",
              "        async function convertToInteractive(key) {\n",
              "          const element = document.querySelector('#df-92762777-6dc3-4cb3-9694-c1a8d2ab4df0');\n",
              "          const dataTable =\n",
              "            await google.colab.kernel.invokeFunction('convertToInteractive',\n",
              "                                                     [key], {});\n",
              "          if (!dataTable) return;\n",
              "\n",
              "          const docLinkHtml = 'Like what you see? Visit the ' +\n",
              "            '<a target=\"_blank\" href=https://colab.research.google.com/notebooks/data_table.ipynb>data table notebook</a>'\n",
              "            + ' to learn more about interactive tables.';\n",
              "          element.innerHTML = '';\n",
              "          dataTable['output_type'] = 'display_data';\n",
              "          await google.colab.output.renderOutput(dataTable, element);\n",
              "          const docLink = document.createElement('div');\n",
              "          docLink.innerHTML = docLinkHtml;\n",
              "          element.appendChild(docLink);\n",
              "        }\n",
              "      </script>\n",
              "    </div>\n",
              "  </div>\n",
              "  "
            ]
          },
          "metadata": {},
          "execution_count": 7
        }
      ],
      "source": [
        "df_select = df[[\"class_of_admission\",\"us_economic_sector\",\"application_type\",\"case_status\"]]\n",
        "df_select = df_select.dropna()\n",
        "df_select.head()"
      ]
    },
    {
      "cell_type": "markdown",
      "metadata": {
        "id": "bIJx2jvD-KEI"
      },
      "source": [
        "# 2.) Clean your data for a decision tree\n"
      ]
    },
    {
      "cell_type": "code",
      "execution_count": 8,
      "metadata": {
        "id": "NvwomEoaGAgN"
      },
      "outputs": [],
      "source": [
        "X = pd.get_dummies(df_select,columns=[\"class_of_admission\",\"us_economic_sector\",\"application_type\"])"
      ]
    },
    {
      "cell_type": "code",
      "source": [
        "X = X.drop(['case_status'], axis=1)"
      ],
      "metadata": {
        "id": "ZDr_MUTueNjG"
      },
      "execution_count": 9,
      "outputs": []
    },
    {
      "cell_type": "code",
      "execution_count": 10,
      "metadata": {
        "id": "AwXa-bvX99Id"
      },
      "outputs": [],
      "source": [
        "y = df_select[\"case_status\"]"
      ]
    },
    {
      "cell_type": "code",
      "source": [
        "y.unique()"
      ],
      "metadata": {
        "colab": {
          "base_uri": "https://localhost:8080/"
        },
        "id": "II45gS1faugL",
        "outputId": "045f7282-d59d-4fed-bc4f-8734505844bb"
      },
      "execution_count": 11,
      "outputs": [
        {
          "output_type": "execute_result",
          "data": {
            "text/plain": [
              "array(['Certified', 'Denied', 'Certified-Expired', 'Withdrawn'],\n",
              "      dtype=object)"
            ]
          },
          "metadata": {},
          "execution_count": 11
        }
      ]
    },
    {
      "cell_type": "code",
      "source": [
        "df_select[\"application_type\"].unique()"
      ],
      "metadata": {
        "colab": {
          "base_uri": "https://localhost:8080/"
        },
        "id": "ij-fA-0NbVfg",
        "outputId": "f45c157f-2af1-4f18-a788-e264c5f2684f"
      },
      "execution_count": 12,
      "outputs": [
        {
          "output_type": "execute_result",
          "data": {
            "text/plain": [
              "array(['PERM', 'MAILEDIN', 'ONLINE'], dtype=object)"
            ]
          },
          "metadata": {},
          "execution_count": 12
        }
      ]
    },
    {
      "cell_type": "code",
      "source": [
        "df_select[\"class_of_admission\"].unique()"
      ],
      "metadata": {
        "colab": {
          "base_uri": "https://localhost:8080/"
        },
        "id": "6_DSTkOhbeNr",
        "outputId": "5a724fa1-da34-4155-b3b9-884168567733"
      },
      "execution_count": 13,
      "outputs": [
        {
          "output_type": "execute_result",
          "data": {
            "text/plain": [
              "array(['J-1', 'B-2', 'H-1B', 'L-1', 'EWI', 'E-2', 'E-1', 'TPS', 'F-1',\n",
              "       'B-1', 'C-1', 'Not in USA', 'TN', 'H-4', 'O-1', 'R-1', 'L-2', 'Q',\n",
              "       'F-2', 'H-2B', 'H-1B1', 'Parolee', 'G-5', 'E-3', 'H-2A', 'VWT',\n",
              "       'P-1', 'A1/A2', 'D-1', 'A-3', 'R-2', 'H-1C', 'H-3', 'J-2', 'P-4',\n",
              "       'I', 'H-1A', 'G-1', 'VWB', 'G-4', 'P-3', 'AOS/H-1B', 'O-3',\n",
              "       'Parol', 'O-2', 'H1B', 'N', 'T-1', 'TD', 'M-1', 'K-1', 'U-1',\n",
              "       'AOS', 'P-2'], dtype=object)"
            ]
          },
          "metadata": {},
          "execution_count": 13
        }
      ]
    },
    {
      "cell_type": "code",
      "source": [
        "df_select[\"us_economic_sector\"].unique()"
      ],
      "metadata": {
        "colab": {
          "base_uri": "https://localhost:8080/"
        },
        "id": "AAxYLSbnbeQV",
        "outputId": "e1b7e66b-aee4-44cb-9cd9-b2d6c5f70390"
      },
      "execution_count": 14,
      "outputs": [
        {
          "output_type": "execute_result",
          "data": {
            "text/plain": [
              "array(['IT', 'Other Economic Sector', 'Aerospace', 'Advanced Mfg',\n",
              "       'Educational Services', 'Retail', 'Construction', 'Hospitality',\n",
              "       'Health Care', 'Finance', 'Energy', 'Transportation',\n",
              "       'Homeland Security', 'Automotive', 'Agribusiness', 'Biotechnology',\n",
              "       'Geospatial'], dtype=object)"
            ]
          },
          "metadata": {},
          "execution_count": 14
        }
      ]
    },
    {
      "cell_type": "markdown",
      "metadata": {
        "id": "PeurmqI4-OoC"
      },
      "source": [
        "# 3.) Fit and plot a decision tree of depth X\n"
      ]
    },
    {
      "cell_type": "code",
      "execution_count": 15,
      "metadata": {
        "id": "6BiA8EgJcYoY"
      },
      "outputs": [],
      "source": [
        "from sklearn import tree"
      ]
    },
    {
      "cell_type": "code",
      "execution_count": 16,
      "metadata": {
        "colab": {
          "base_uri": "https://localhost:8080/"
        },
        "id": "udwK0byx-RLA",
        "outputId": "50f6d962-2371-420a-cac6-a082b73e1307"
      },
      "outputs": [
        {
          "output_type": "execute_result",
          "data": {
            "text/plain": [
              "DecisionTreeClassifier(max_depth=3)"
            ]
          },
          "metadata": {},
          "execution_count": 16
        }
      ],
      "source": [
        "clf = tree.DecisionTreeClassifier(max_depth = 3)\n",
        "clf.fit(X,y)"
      ]
    },
    {
      "cell_type": "code",
      "execution_count": 18,
      "metadata": {
        "colab": {
          "base_uri": "https://localhost:8080/",
          "height": 740
        },
        "id": "nHqdtuh6cSf-",
        "outputId": "03ace02c-ad3b-4a8c-aca2-b654d9c1b5c8"
      },
      "outputs": [
        {
          "output_type": "execute_result",
          "data": {
            "text/plain": [
              "[Text(0.5, 0.875, 'application_type_ONLINE <= 0.5\\ngini = 0.617\\nsamples = 122833\\nvalue = [56565, 49327, 9341, 7600]'),\n",
              " Text(0.25, 0.625, 'application_type_PERM <= 0.5\\ngini = 0.612\\nsamples = 19839\\nvalue = [10979, 4713, 2868, 1279]'),\n",
              " Text(0.125, 0.375, 'class_of_admission_EWI <= 0.5\\ngini = 0.586\\nsamples = 1097\\nvalue = [126, 225, 650, 96]'),\n",
              " Text(0.0625, 0.125, 'gini = 0.562\\nsamples = 886\\nvalue = [90, 149, 552, 95]'),\n",
              " Text(0.1875, 0.125, 'gini = 0.625\\nsamples = 211\\nvalue = [36, 76, 98, 1]'),\n",
              " Text(0.375, 0.375, 'class_of_admission_H-1B <= 0.5\\ngini = 0.589\\nsamples = 18742\\nvalue = [10853, 4488, 2218, 1183]'),\n",
              " Text(0.3125, 0.125, 'gini = 0.661\\nsamples = 2985\\nvalue = [1438, 573, 763, 211]'),\n",
              " Text(0.4375, 0.125, 'gini = 0.569\\nsamples = 15757\\nvalue = [9415, 3915, 1455, 972]'),\n",
              " Text(0.75, 0.625, 'class_of_admission_H-1B <= 0.5\\ngini = 0.609\\nsamples = 102994\\nvalue = [45586, 44614, 6473, 6321]'),\n",
              " Text(0.625, 0.375, 'class_of_admission_L-1 <= 0.5\\ngini = 0.644\\nsamples = 15209\\nvalue = [6267, 6274, 1499, 1169]'),\n",
              " Text(0.5625, 0.125, 'gini = 0.665\\nsamples = 10703\\nvalue = [4206, 4256, 1320, 921]'),\n",
              " Text(0.6875, 0.125, 'gini = 0.586\\nsamples = 4506\\nvalue = [2061, 2018, 179, 248]'),\n",
              " Text(0.875, 0.375, 'us_economic_sector_Retail <= 0.5\\ngini = 0.602\\nsamples = 87785\\nvalue = [39319, 38340, 4974, 5152]'),\n",
              " Text(0.8125, 0.125, 'gini = 0.603\\nsamples = 84812\\nvalue = [37753, 37131, 4894, 5034]'),\n",
              " Text(0.9375, 0.125, 'gini = 0.555\\nsamples = 2973\\nvalue = [1566, 1209, 80, 118]')]"
            ]
          },
          "metadata": {},
          "execution_count": 18
        },
        {
          "output_type": "display_data",
          "data": {
            "text/plain": [
              "<Figure size 1440x576 with 1 Axes>"
            ],
            "image/png": "[encoded data removed]"
          },
          "metadata": {
            "needs_background": "light"
          }
        }
      ],
      "source": [
        "plt.figure(figsize = (20,8))\n",
        "tree.plot_tree(clf,feature_names = X.columns)"
      ]
    },
    {
      "cell_type": "markdown",
      "metadata": {
        "id": "6isBwtmL-R4p"
      },
      "source": [
        "# 4.) Write your interpretation of the largest (by sample size) leaf node\n"
      ]
    },
    {
      "cell_type": "markdown",
      "source": [
        "The largest leaf node means that after the decision tree classification, this class is when application type is PERM and the class of admission is H-1B, the number of 'Certified', 'Denied', 'Certified-Expired', 'Withdrawn' is 9415,3915,1455 and 972. And the Gini index is relatively small, which means the classification is not bad."
      ],
      "metadata": {
        "id": "yKwctHpxZ-AF"
      }
    },
    {
      "cell_type": "markdown",
      "metadata": {
        "id": "aQa3sanl-XUk"
      },
      "source": [
        "# 5.) Using a for loop, make your own train-test split and determine the best max_depth for out-of sample accuracy"
      ]
    },
    {
      "cell_type": "code",
      "execution_count": 20,
      "metadata": {
        "id": "9QA-y6HCslBR"
      },
      "outputs": [],
      "source": [
        "from sklearn.model_selection import train_test_split\n",
        "from sklearn import metrics\n",
        "X_train,X_test,y_train,y_test = train_test_split(X,y,test_size=.3)\n",
        "\n",
        "max_depths = [1,2,3]\n",
        "outputs = []\n",
        "\n",
        "for md in max_depths:\n",
        "  clf = tree.DecisionTreeClassifier(max_depth = md)\n",
        "  clf.fit(X_train,y_train)\n",
        "  predict = clf.predict(X_test)\n",
        "  right_number = 0\n",
        "  total_number = 0\n",
        "  for a, b in zip(predict, y_test):\n",
        "    if a == b:\n",
        "      right_number += 1\n",
        "      total_number += 1\n",
        "    else:\n",
        "      total_number += 1\n",
        "  oos_accuracy = right_number / total_number\n",
        "  outputs.append(oos_accuracy)"
      ]
    },
    {
      "cell_type": "code",
      "execution_count": 21,
      "metadata": {
        "id": "vVaHpqf9wHj7",
        "colab": {
          "base_uri": "https://localhost:8080/"
        },
        "outputId": "58a891a4-4098-4555-efc5-ebe3cc040beb"
      },
      "outputs": [
        {
          "output_type": "stream",
          "name": "stdout",
          "text": [
            "[0.4629036635006784, 0.4677611940298507, 0.46852103120759836]\n"
          ]
        }
      ],
      "source": [
        "print(outputs)"
      ]
    },
    {
      "cell_type": "markdown",
      "source": [
        "We can find that the accuracy of 3 (max depth = 3) is the highest."
      ],
      "metadata": {
        "id": "nQBfcYu1zyNf"
      }
    }
  ],
  "metadata": {
    "colab": {
      "provenance": []
    },
    "kernelspec": {
      "display_name": "Python 3",
      "name": "python3"
    },
    "language_info": {
      "name": "python"
    }
  },
  "nbformat": 4,
  "nbformat_minor": 0
}